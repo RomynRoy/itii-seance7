{
 "cells": [
  {
   "cell_type": "markdown",
   "metadata": {},
   "source": [
    "En utilisant numpy:"
   ]
  },
  {
   "cell_type": "markdown",
   "metadata": {},
   "source": [
    "Ex 1 :Addition\n",
    "Écrire un programme pour lire les éléments de deux matrices et ajoutez les deux matrices dans la troisième.\n",
    "\n",
    "La somme de deux matrices de taille (m,n), $(A_{ij}) et (B_{ij}) notée $A+B$  est à nouveau une matrice (C_{ij}) de taille (m,n), obtenue en additionnant les éléments correspondants: $c_{ij}=a_{ij}+b_{ij}$"
   ]
  },
  {
   "cell_type": "code",
   "execution_count": 5,
   "metadata": {},
   "outputs": [
    {
     "name": "stdout",
     "output_type": "stream",
     "text": [
      "A :  [[ 1  2  3]\n",
      " [ 4  5 -6]\n",
      " [-7  8  9]]\n",
      "B :  [[  9  -8   7]\n",
      " [-89  -1  33]\n",
      " [185  28  32]]\n",
      "A + B :  [[ 10  -6  10]\n",
      " [-85   4  27]\n",
      " [178  36  41]]\n"
     ]
    }
   ],
   "source": [
    "import numpy as np\n",
    "A = np.array ([ [1,2,3], [4, 5, -6], [-7, 8 ,9] ])\n",
    "B = np.array ([ [9, -8, 7], [-89, -1, 33], [185, 28, 32] ])\n",
    "C= A+B\n",
    "print(\"A : \",A)\n",
    "print(\"B : \",B)\n",
    "print(\"A + B : \",C)"
   ]
  },
  {
   "cell_type": "markdown",
   "metadata": {},
   "source": [
    "Ex2 :Multiplication\n",
    "Écrire un programme pour lire les éléments de deux matrices, puis multipliez les deux matrices dans la troisième.\n",
    "\n",
    "Deux matrices ne peuvent être multipliées que si le nombre de colonnes de la première matrice est le même que le nombre de lignes de la seconde matrice.\n",
    "\n",
    "Si $ A=(a_{ij})$ est une matrice de taille (m,n), $ B=(b_{ij})$ et est une matrice de taille (n,p), alors leur produit, noté $AB=(c_{ij})$ est une matrice de taille (m,p) définie par :\n",
    "$$\\forall i,j : c_{ij}=\\sum_{k=i}^{n} a_{ik}*b_{kj}$$"
   ]
  },
  {
   "cell_type": "code",
   "execution_count": 20,
   "metadata": {},
   "outputs": [
    {
     "name": "stdout",
     "output_type": "stream",
     "text": [
      "lena :  2\n",
      "lenb :  2\n",
      "A :  [[ 1  2  0]\n",
      " [ 4  3 -1]]\n",
      "B :  [[5 1]\n",
      " [2 3]\n",
      " [3 4]]\n",
      "A * B :  [[ 9  7]\n",
      " [23  9]]\n"
     ]
    }
   ],
   "source": [
    " import numpy as np\n",
    "A = np.array([[1,2,0],[4,3,-1]])\n",
    "B = np.array([[5,1],[2,3],[3,4]])\n",
    "C = A.dot(B)\n",
    "lena=len(A.shape)\n",
    "lenb=len(B.shape)\n",
    "print(\"lena : \",lena)\n",
    "print(\"lenb : \",lenb)\n",
    "if lena==lenb :\n",
    "    print(\"A : \",A)\n",
    "    print(\"B : \",B)\n",
    "    print(\"A * B : \",C)\n",
    "\n"
   ]
  },
  {
   "cell_type": "markdown",
   "metadata": {},
   "source": [
    "Ex 3: Matrice de Markov\n",
    "\n",
    "Une matrice de Markov est une matrice carrée dont chaque élément est un réel compris entre 0 et 1 et dont la somme des éléments de chaque ligne vaut 1. Cela correspond, en probabilité, à la matrice de transition d'une chaîne de Markov finie.\n",
    "\n",
    "Une matrice est dite bistochastique (ou doublement stochastique) si la somme des éléments de chaque ligne et de chaque colonne vaut 1.\n",
    "\n",
    "1. Ecrire une fonction eststochastique(P) qui permet de vérifier est ce que la matrice P est stochastique ou non\n",
    "2. Ecrire une fonction estbistochastique(P) qui permet de vérifier est ce que la matrice P est bistochastique ou non\n",
    "3. Ecrire une fonction vecteurstable(G, h) qui permet de vérifier est ce que h est un vecteur stable de G ou non\n",
    "\n"
   ]
  },
  {
   "cell_type": "code",
   "execution_count": 21,
   "metadata": {},
   "outputs": [],
   "source": [
    "#1\n",
    "def eststochastique(P):\n",
    "    nl = len(P)  # nombre de lignes\n",
    "    nc = len(P[0])  # nombre de colonnes\n",
    " \n",
    "    etat = True  # on suppose que la matrice est stochastique\n",
    "    for i in range(nc): #colonnes\n",
    "        s = 0\n",
    "        for j in range(nl): #lignes\n",
    "            s = s + P[i][j]\n",
    "        if s > 1:#si la ligne ne vaut pas 1 \n",
    "            etat = False\n",
    "            break\n",
    "    return etat"
   ]
  },
  {
   "cell_type": "code",
   "execution_count": 28,
   "metadata": {},
   "outputs": [
    {
     "data": {
      "text/plain": [
       "True"
      ]
     },
     "execution_count": 28,
     "metadata": {},
     "output_type": "execute_result"
    }
   ],
   "source": [
    "B = np.array([[0,1,0],[0,1,0],[1,0,0]])\n",
    "eststochastique(B)"
   ]
  },
  {
   "cell_type": "code",
   "execution_count": 29,
   "metadata": {},
   "outputs": [],
   "source": [
    "#2\n",
    "def estbistochastique(P):\n",
    "    nl = len(P)  # nombre de lignes\n",
    "    nc = len(P[0])  # nombre de colonnes\n",
    " \n",
    "    etat = True  # on suppose que la matrice est stochastique\n",
    "    if eststochastique(P)==True :\n",
    "        for i in range(nl): #lignes\n",
    "            s = 0\n",
    "            for j in range(nc): #colonnes\n",
    "                s = s + P[j][i]\n",
    "            if s > 1:#si la ligne ne vaut pas 1 \n",
    "                etat = False\n",
    "                break\n",
    "    else :\n",
    "        etat=False\n",
    "    return etat\n"
   ]
  },
  {
   "cell_type": "code",
   "execution_count": 32,
   "metadata": {},
   "outputs": [
    {
     "data": {
      "text/plain": [
       "True"
      ]
     },
     "execution_count": 32,
     "metadata": {},
     "output_type": "execute_result"
    }
   ],
   "source": [
    "B = np.array([[0,1,0],[0,0,1],[1,0,0]])\n",
    "estbistochastique(B)"
   ]
  },
  {
   "cell_type": "code",
   "execution_count": 44,
   "metadata": {},
   "outputs": [],
   "source": [
    "#3\n",
    "def vecteurstable(G, h):\n",
    "    nl = len(G)  # nombre de lignes\n",
    "    nc = len(G[0])  # nombre de colonnes\n",
    "    for j in range(nc):\n",
    "            s = 0\n",
    "            for i in range(nl):\n",
    "                s += h[i]*G[i][j]\n",
    "            if s != h[j]:\n",
    "                etat = False\n",
    "                break\n",
    "    else:\n",
    "        etat = False\n",
    "    return etat"
   ]
  },
  {
   "cell_type": "code",
   "execution_count": 48,
   "metadata": {},
   "outputs": [
    {
     "data": {
      "text/plain": [
       "False"
      ]
     },
     "execution_count": 48,
     "metadata": {},
     "output_type": "execute_result"
    }
   ],
   "source": [
    "B = np.array([[0,1,0],[0,0,1],[1,0,0]])\n",
    "h = np.array([[0],[1],[0]])\n",
    "vecteurstable(B,h)\n"
   ]
  },
  {
   "cell_type": "markdown",
   "metadata": {},
   "source": [
    "Ex 4: Transposer\n",
    "\n",
    "Programmer une fonction qui, étant donné une matrice à deux dimensions A, retourne lamatrice B dont la première colonne est la première ligne de A, la seconde la deuxième ligne de A, etc. B s’appelle la transposée de A."
   ]
  },
  {
   "cell_type": "code",
   "execution_count": 49,
   "metadata": {},
   "outputs": [
    {
     "name": "stdout",
     "output_type": "stream",
     "text": [
      "A :  [[ 3  1  5]\n",
      " [ 9  8 -1]\n",
      " [18 12  2]]\n",
      "Transposée de A :  [[ 3  9 18]\n",
      " [ 1  8 12]\n",
      " [ 5 -1  2]]\n"
     ]
    }
   ],
   "source": [
    "import numpy as np\n",
    " \n",
    "A = np.array([ [3, 1, 5], [9, 8, -1], [18, 12, 2] ])\n",
    " \n",
    "C = A.transpose()\n",
    " \n",
    "print(\"A : \", A)\n",
    "print(\"Transposée de A : \", C)"
   ]
  },
  {
   "cell_type": "markdown",
   "metadata": {},
   "source": [
    "Ex 5: Permutations\n",
    "1. $M$ désignant une matrice quelconque d’entiers à $l_i$ lignes et $co$ colonnes, $n$ un entier quelconque, programmer une fonction qui retourne la matrice $Sortie$ qui empile verticalement les $co+1$ matrices obtenues en adjoignant à $M$ une colonne $A$ à $li$ lignes dont tousles éléments sont égaux à $n$, $A$ étant placée d’abord devant $M$, puis entre la première et deuxième colonne de $M^a$,etc, jusqu’à ce que $A$ devienne sa dernière colonne. La matriceobtenue  aura $co+1$ colonnes et $(n+1)$ $li$ lignes\n",
    "\n",
    "2. Écrire toutes les permutations de(1, ..., n)"
   ]
  }
 ],
 "metadata": {
  "kernelspec": {
   "display_name": "Python 3",
   "language": "python",
   "name": "python3"
  },
  "language_info": {
   "codemirror_mode": {
    "name": "ipython",
    "version": 3
   },
   "file_extension": ".py",
   "mimetype": "text/x-python",
   "name": "python",
   "nbconvert_exporter": "python",
   "pygments_lexer": "ipython3",
   "version": "3.8.3"
  }
 },
 "nbformat": 4,
 "nbformat_minor": 4
}
